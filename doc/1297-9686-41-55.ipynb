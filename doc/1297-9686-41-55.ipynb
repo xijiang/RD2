{
 "cells": [
  {
   "cell_type": "markdown",
   "metadata": {},
   "source": [
    "## Conclusions\n",
    "- use $\\frac{\\text{EBV}}{r^2}$ for deregression.\n",
    "- $r^2$: the reliability of the EBV\n",
    "- weight is not\n",
    "  - reliability\n",
    "  - prediction error variance\n",
    "- can be $\\frac{1-h^2}{(c+\\frac{1-r^2}{r^2})h^2}$"
   ]
  },
  {
   "cell_type": "markdown",
   "metadata": {},
   "source": [
    "## Previous study\n",
    "### What to use\n",
    "- EBV?\n",
    "- DYD?\n",
    "### How to weight\n",
    "- by inverse of the variance, typically\n",
    "- reciprocal of the variance of BV\n",
    "- using reliability\n",
    "  - (PTA = EBV/2) x $\\sqrt{(r^2)}$, and analysis unweighted\n",
    "- deregressed PTA $\\to$ DYD, weight inverse scaled variance, $\\equiv$ using inversed reliability as weight.\n",
    "- ..."
   ]
  },
  {
   "cell_type": "code",
   "execution_count": null,
   "metadata": {},
   "outputs": [],
   "source": []
  }
 ],
 "metadata": {
  "kernelspec": {
   "display_name": "Julia 1.5.3",
   "language": "julia",
   "name": "julia-1.5"
  },
  "language_info": {
   "file_extension": ".jl",
   "mimetype": "application/julia",
   "name": "julia",
   "version": "1.7.0"
  }
 },
 "nbformat": 4,
 "nbformat_minor": 4
}
